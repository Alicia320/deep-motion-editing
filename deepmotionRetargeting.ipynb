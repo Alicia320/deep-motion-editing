{
  "nbformat": 4,
  "nbformat_minor": 0,
  "metadata": {
    "colab": {
      "name": "deepmotionRetargeting.ipynb",
      "provenance": [],
      "authorship_tag": "ABX9TyOzyiusqnxj3aAX3Z5f/OrA",
      "include_colab_link": true
    },
    "kernelspec": {
      "display_name": "Python 3",
      "name": "python3"
    },
    "language_info": {
      "name": "python"
    }
  },
  "cells": [
    {
      "cell_type": "markdown",
      "metadata": {
        "id": "view-in-github",
        "colab_type": "text"
      },
      "source": [
        "<a href=\"https://colab.research.google.com/github/Alicia320/deep-motion-editing/blob/master/deepmotionRetargeting.ipynb\" target=\"_parent\"><img src=\"https://colab.research.google.com/assets/colab-badge.svg\" alt=\"Open In Colab\"/></a>"
      ]
    },
    {
      "cell_type": "code",
      "metadata": {
        "colab": {
          "base_uri": "https://localhost:8080/"
        },
        "id": "my5msg4yVdTQ",
        "outputId": "8cef158f-2305-4408-8b79-e5204dd86691"
      },
      "source": [
        "!git clone --recursive https://github.com/DeepMotionEditing/deep-motion-editing.git"
      ],
      "execution_count": 1,
      "outputs": [
        {
          "output_type": "stream",
          "text": [
            "Cloning into 'deep-motion-editing'...\n",
            "remote: Enumerating objects: 842, done.\u001b[K\n",
            "remote: Counting objects: 100% (4/4), done.\u001b[K\n",
            "remote: Compressing objects: 100% (4/4), done.\u001b[K\n",
            "remote: Total 842 (delta 0), reused 1 (delta 0), pack-reused 838\u001b[K\n",
            "Receiving objects: 100% (842/842), 68.70 MiB | 25.75 MiB/s, done.\n",
            "Resolving deltas: 100% (256/256), done.\n"
          ],
          "name": "stdout"
        }
      ]
    },
    {
      "cell_type": "code",
      "metadata": {
        "colab": {
          "base_uri": "https://localhost:8080/"
        },
        "id": "EfN7KaC648ag",
        "outputId": "5f82583f-804c-4d46-ef05-347d755e4dea"
      },
      "source": [
        "from google.colab import drive\n",
        "drive.mount('/content/drive/') "
      ],
      "execution_count": 2,
      "outputs": [
        {
          "output_type": "stream",
          "text": [
            "Mounted at /content/drive/\n"
          ],
          "name": "stdout"
        }
      ]
    },
    {
      "cell_type": "code",
      "metadata": {
        "id": "-7BUyCCmhuy1"
      },
      "source": [
        "!cp -r /content/drive/MyDrive/Mixamo /content/deep-motion-editing/retargeting/datasets"
      ],
      "execution_count": 3,
      "outputs": []
    },
    {
      "cell_type": "code",
      "metadata": {
        "id": "5-1Neq-mk7SL"
      },
      "source": [
        "!cp -r /content/drive/MyDrive/graphOrigin /content/deep-motion-editing/retargeting/datasets/Mixamo"
      ],
      "execution_count": 4,
      "outputs": []
    },
    {
      "cell_type": "code",
      "metadata": {
        "id": "E_VTnQaCLw7Q"
      },
      "source": [
        "!cp -r /content/deep-motion-editing /content/drive/MyDrive"
      ],
      "execution_count": 9,
      "outputs": []
    },
    {
      "cell_type": "code",
      "metadata": {
        "colab": {
          "base_uri": "https://localhost:8080/"
        },
        "id": "Jb8vFTFCjdNW",
        "outputId": "6e04c68c-39db-4d83-b00b-af9692d301c0"
      },
      "source": [
        "%cd /content/deep-motion-editing/retargeting\n",
        "!python demo.py"
      ],
      "execution_count": null,
      "outputs": [
        {
          "output_type": "stream",
          "text": [
            "/content/deep-motion-editing/retargeting\n",
            "loading from ./pretrained/models/topology0\n",
            "loading from epoch 20000......\n",
            "load succeed!\n",
            "loading from ./pretrained/models/topology1\n",
            "loading from epoch 20000......\n",
            "load succeed!\n",
            "Fixing foot contact using IK...\n",
            "100% 50/50 [00:01<00:00, 32.71it/s]\n",
            "loading from ./pretrained/models/topology0\n",
            "loading from epoch 20000......\n",
            "load succeed!\n",
            "loading from ./pretrained/models/topology1\n",
            "loading from epoch 20000......\n",
            "load succeed!\n",
            "Fixing foot contact using IK...\n",
            "100% 50/50 [00:01<00:00, 43.24it/s]\n",
            "Finished!\n"
          ],
          "name": "stdout"
        }
      ]
    },
    {
      "cell_type": "code",
      "metadata": {
        "colab": {
          "base_uri": "https://localhost:8080/"
        },
        "id": "PGB6u8WoupMD",
        "outputId": "ee8a8b8a-ab7f-435e-97f9-e3e0b1a3fa33"
      },
      "source": [
        "pip install torch==1.4.0 torchvision==0.5.0"
      ],
      "execution_count": 5,
      "outputs": [
        {
          "output_type": "stream",
          "text": [
            "Collecting torch==1.4.0\n",
            "\u001b[?25l  Downloading https://files.pythonhosted.org/packages/1a/3b/fa92ece1e58a6a48ec598bab327f39d69808133e5b2fb33002ca754e381e/torch-1.4.0-cp37-cp37m-manylinux1_x86_64.whl (753.4MB)\n",
            "\u001b[K     |████████████████████████████████| 753.4MB 25kB/s \n",
            "\u001b[?25hCollecting torchvision==0.5.0\n",
            "\u001b[?25l  Downloading https://files.pythonhosted.org/packages/1c/32/cb0e4c43cd717da50258887b088471568990b5a749784c465a8a1962e021/torchvision-0.5.0-cp37-cp37m-manylinux1_x86_64.whl (4.0MB)\n",
            "\u001b[K     |████████████████████████████████| 4.0MB 32.1MB/s \n",
            "\u001b[?25hRequirement already satisfied: pillow>=4.1.1 in /usr/local/lib/python3.7/dist-packages (from torchvision==0.5.0) (7.1.2)\n",
            "Requirement already satisfied: six in /usr/local/lib/python3.7/dist-packages (from torchvision==0.5.0) (1.15.0)\n",
            "Requirement already satisfied: numpy in /usr/local/lib/python3.7/dist-packages (from torchvision==0.5.0) (1.19.5)\n",
            "\u001b[31mERROR: torchtext 0.10.0 has requirement torch==1.9.0, but you'll have torch 1.4.0 which is incompatible.\u001b[0m\n",
            "Installing collected packages: torch, torchvision\n",
            "  Found existing installation: torch 1.9.0+cu102\n",
            "    Uninstalling torch-1.9.0+cu102:\n",
            "      Successfully uninstalled torch-1.9.0+cu102\n",
            "  Found existing installation: torchvision 0.10.0+cu102\n",
            "    Uninstalling torchvision-0.10.0+cu102:\n",
            "      Successfully uninstalled torchvision-0.10.0+cu102\n",
            "Successfully installed torch-1.4.0 torchvision-0.5.0\n"
          ],
          "name": "stdout"
        }
      ]
    },
    {
      "cell_type": "code",
      "metadata": {
        "colab": {
          "base_uri": "https://localhost:8080/"
        },
        "id": "0mVdvF0ObJOp",
        "outputId": "1609881b-00f3-4301-de17-09377fa04720"
      },
      "source": [
        "%cd /content/deep-motion-editing/retargeting\n",
        "!python ./datasets/preprocess.py\n"
      ],
      "execution_count": 6,
      "outputs": [
        {
          "output_type": "stream",
          "text": [
            "/content/deep-motion-editing/retargeting\n",
            "['/content/deep-motion-editing/retargeting/datasets', '/env/python', '/usr/lib/python37.zip', '/usr/lib/python3.7', '/usr/lib/python3.7/lib-dynload', '/usr/local/lib/python3.7/dist-packages', '/usr/lib/python3/dist-packages', '/content/deep-motion-editing/retargeting', '..', '/content/deep-motion-editing/utils', '/content/deep-motion-editing/utils/BVH_mod.py', '/content/deep-motion-editing/retargeting/models', '/content/deep-motion-editing/retargeting/models/Kinematics.py']\n",
            "begin Kaya\n",
            "/usr/local/lib/python3.7/dist-packages/numpy/core/_asarray.py:136: VisibleDeprecationWarning: Creating an ndarray from ragged nested sequences (which is a list-or-tuple of lists-or-tuples-or ndarrays with different lengths or shapes) is deprecated. If you meant to do this, you must specify 'dtype=object' when creating the ndarray\n",
            "  return array(a, dtype, copy=False, order=order, subok=True)\n",
            "Npy file saved at ./datasets/Mixamo/Kaya.npy\n",
            "load from file ./datasets/Mixamo/Kaya.npy\n",
            "Window count: 181, total frame (without downsampling): 21607\n",
            "begin Mremireh_m\n",
            "Npy file saved at ./datasets/Mixamo/Mremireh_m.npy\n",
            "load from file ./datasets/Mixamo/Mremireh_m.npy\n",
            "Window count: 180, total frame (without downsampling): 21511\n",
            "begin BigVegas\n",
            "Npy file saved at ./datasets/Mixamo/BigVegas.npy\n",
            "load from file ./datasets/Mixamo/BigVegas.npy\n",
            "Window count: 180, total frame (without downsampling): 21511\n",
            "begin SportyGranny\n",
            "Npy file saved at ./datasets/Mixamo/SportyGranny.npy\n",
            "load from file ./datasets/Mixamo/SportyGranny.npy\n",
            "Window count: 181, total frame (without downsampling): 21607\n",
            "begin Mousey_m\n",
            "Npy file saved at ./datasets/Mixamo/Mousey_m.npy\n",
            "load from file ./datasets/Mixamo/Mousey_m.npy\n",
            "Window count: 180, total frame (without downsampling): 21511\n",
            "begin Vampire_m\n",
            "Npy file saved at ./datasets/Mixamo/Vampire_m.npy\n",
            "load from file ./datasets/Mixamo/Vampire_m.npy\n",
            "Window count: 180, total frame (without downsampling): 21511\n",
            "begin Goblin_m\n",
            "Npy file saved at ./datasets/Mixamo/Goblin_m.npy\n",
            "load from file ./datasets/Mixamo/Goblin_m.npy\n",
            "Window count: 180, total frame (without downsampling): 21511\n",
            "begin graphOrigin\n",
            "Npy file saved at ./datasets/Mixamo/graphOrigin.npy\n",
            "load from file ./datasets/Mixamo/graphOrigin.npy\n",
            "Window count: 473, total frame (without downsampling): 33157\n",
            "begin Aj\n",
            "Npy file saved at ./datasets/Mixamo/Aj.npy\n",
            "load from file ./datasets/Mixamo/Aj.npy\n",
            "Window count: 179, total frame (without downsampling): 21437\n"
          ],
          "name": "stdout"
        }
      ]
    }
  ]
}